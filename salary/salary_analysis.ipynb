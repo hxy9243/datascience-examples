{
 "cells": [
  {
   "cell_type": "markdown",
   "metadata": {},
   "source": [
    "# Data Analysis Basics with Salary Analysis\n",
    "\n",
    "With data and examples from https://www.kaggle.com/code/bilashalder/salaries-data-analysis-practice/data?select=Salaries.csv\n",
    "\n",
    "This is an intro to data analysis on Kaggle and an exercise of understanding and exploring data."
   ]
  },
  {
   "cell_type": "code",
   "execution_count": null,
   "metadata": {
    "execution": {
     "iopub.execute_input": "2022-07-06T06:31:47.131864Z",
     "iopub.status.busy": "2022-07-06T06:31:47.131345Z",
     "iopub.status.idle": "2022-07-06T06:31:47.580665Z",
     "shell.execute_reply": "2022-07-06T06:31:47.579307Z",
     "shell.execute_reply.started": "2022-07-06T06:31:47.131816Z"
    }
   },
   "outputs": [],
   "source": [
    "import pandas as pd\n",
    "\n",
    "salaries = pd.read_csv('../input/sf-salary-data-2011-2014/Salaries.csv')\n",
    "salaries.head()"
   ]
  },
  {
   "cell_type": "code",
   "execution_count": null,
   "metadata": {
    "execution": {
     "iopub.execute_input": "2022-07-06T06:31:47.58385Z",
     "iopub.status.busy": "2022-07-06T06:31:47.583378Z",
     "iopub.status.idle": "2022-07-06T06:31:47.632889Z",
     "shell.execute_reply": "2022-07-06T06:31:47.631613Z",
     "shell.execute_reply.started": "2022-07-06T06:31:47.583804Z"
    }
   },
   "outputs": [],
   "source": [
    "salaries.describe()"
   ]
  },
  {
   "cell_type": "code",
   "execution_count": null,
   "metadata": {
    "execution": {
     "iopub.execute_input": "2022-07-06T06:31:47.636449Z",
     "iopub.status.busy": "2022-07-06T06:31:47.634523Z",
     "iopub.status.idle": "2022-07-06T06:31:48.313977Z",
     "shell.execute_reply": "2022-07-06T06:31:48.31265Z",
     "shell.execute_reply.started": "2022-07-06T06:31:47.636398Z"
    }
   },
   "outputs": [],
   "source": [
    "# convert NaN values into float(0.0)\n",
    "\n",
    "indices = ['BasePay', 'OvertimePay', 'OtherPay', 'Benefits']\n",
    "\n",
    "for idx in indices:\n",
    "    salaries[idx] = salaries.loc[:, idx].map(lambda x: 0.0 if x == 'Not Provided' or pd.isna(x) else x).astype('float')\n",
    "    \n",
    "salaries.head()"
   ]
  },
  {
   "cell_type": "code",
   "execution_count": null,
   "metadata": {
    "execution": {
     "iopub.execute_input": "2022-07-06T06:31:48.317555Z",
     "iopub.status.busy": "2022-07-06T06:31:48.317065Z",
     "iopub.status.idle": "2022-07-06T06:31:48.398172Z",
     "shell.execute_reply": "2022-07-06T06:31:48.396656Z",
     "shell.execute_reply.started": "2022-07-06T06:31:48.317511Z"
    }
   },
   "outputs": [],
   "source": [
    "salaries.info()"
   ]
  },
  {
   "cell_type": "code",
   "execution_count": null,
   "metadata": {
    "execution": {
     "iopub.execute_input": "2022-07-06T06:31:48.400497Z",
     "iopub.status.busy": "2022-07-06T06:31:48.400044Z",
     "iopub.status.idle": "2022-07-06T06:31:48.486886Z",
     "shell.execute_reply": "2022-07-06T06:31:48.485452Z",
     "shell.execute_reply.started": "2022-07-06T06:31:48.400453Z"
    }
   },
   "outputs": [],
   "source": [
    "salaries.describe()"
   ]
  },
  {
   "cell_type": "code",
   "execution_count": null,
   "metadata": {
    "execution": {
     "iopub.execute_input": "2022-07-06T06:31:48.488729Z",
     "iopub.status.busy": "2022-07-06T06:31:48.488415Z",
     "iopub.status.idle": "2022-07-06T06:31:48.510145Z",
     "shell.execute_reply": "2022-07-06T06:31:48.508663Z",
     "shell.execute_reply.started": "2022-07-06T06:31:48.4887Z"
    }
   },
   "outputs": [],
   "source": [
    "len(salaries['JobTitle'].unique())"
   ]
  },
  {
   "cell_type": "code",
   "execution_count": null,
   "metadata": {
    "execution": {
     "iopub.execute_input": "2022-07-06T06:31:48.512483Z",
     "iopub.status.busy": "2022-07-06T06:31:48.511996Z",
     "iopub.status.idle": "2022-07-06T06:31:50.805304Z",
     "shell.execute_reply": "2022-07-06T06:31:50.804015Z",
     "shell.execute_reply.started": "2022-07-06T06:31:48.512435Z"
    }
   },
   "outputs": [],
   "source": [
    "# Explore distribution of data with histogram plots\n",
    "\n",
    "import matplotlib.pyplot as plt\n",
    "\n",
    "nbins = 100\n",
    "\n",
    "for col in ('BasePay', 'OvertimePay', 'OtherPay', 'Benefits', 'TotalPay', 'TotalPayBenefits'):\n",
    "    plt.hist(salaries[col], bins=nbins)\n",
    "    plt.title(col)\n",
    "    plt.xlabel('Payment($)')\n",
    "    plt.show()           \n",
    "            "
   ]
  }
 ],
 "metadata": {
  "kernelspec": {
   "display_name": "Python 3 (ipykernel)",
   "language": "python",
   "name": "python3"
  },
  "language_info": {
   "codemirror_mode": {
    "name": "ipython",
    "version": 3
   },
   "file_extension": ".py",
   "mimetype": "text/x-python",
   "name": "python",
   "nbconvert_exporter": "python",
   "pygments_lexer": "ipython3",
   "version": "3.10.4"
  }
 },
 "nbformat": 4,
 "nbformat_minor": 4
}
