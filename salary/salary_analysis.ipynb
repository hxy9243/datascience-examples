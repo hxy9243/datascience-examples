{
 "cells": [
  {
   "cell_type": "markdown",
   "id": "16ce59e8-f4a0-4172-8ce8-2d90930d25ac",
   "metadata": {},
   "source": [
    "# Data Analysis Basics with Salary Analysis\n",
    "\n",
    "With data and examples from https://www.kaggle.com/code/bilashalder/salaries-data-analysis-practice/data?select=Salaries.csv"
   ]
  },
  {
   "cell_type": "code",
   "execution_count": null,
   "id": "96b14a03-f8ed-46e8-bf25-1c5c94b690ec",
   "metadata": {},
   "outputs": [],
   "source": [
    "# Prepare and unpack data\n",
    "\n",
    "!unzip Salaries.csv.zip"
   ]
  },
  {
   "cell_type": "code",
   "execution_count": null,
   "id": "4d15ec7f-0f92-4dbd-b0a3-b2cb0a65b835",
   "metadata": {},
   "outputs": [],
   "source": [
    "import pandas as pd\n",
    "\n",
    "salaries = pd.read_csv('Salaries.csv')\n",
    "salaries.head()"
   ]
  },
  {
   "cell_type": "code",
   "execution_count": null,
   "id": "27a46403-9940-4609-8c82-472a366f437a",
   "metadata": {},
   "outputs": [],
   "source": []
  }
 ],
 "metadata": {
  "kernelspec": {
   "display_name": "Python 3 (ipykernel)",
   "language": "python",
   "name": "python3"
  },
  "language_info": {
   "codemirror_mode": {
    "name": "ipython",
    "version": 3
   },
   "file_extension": ".py",
   "mimetype": "text/x-python",
   "name": "python",
   "nbconvert_exporter": "python",
   "pygments_lexer": "ipython3",
   "version": "3.10.4"
  }
 },
 "nbformat": 4,
 "nbformat_minor": 5
}
