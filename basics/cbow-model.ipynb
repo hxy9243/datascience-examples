{
 "cells": [
  {
   "cell_type": "code",
   "execution_count": 2,
   "metadata": {
    "scrolled": true
   },
   "outputs": [
    {
     "data": {
      "text/plain": [
       "array([list([1, 27595, 28842, 8, 43, 10, 447, 5, 25, 207, 270, 5, 3095, 111, 16, 369, 186, 90, 67, 7, 89, 5, 19, 102, 6, 19, 124, 15, 90, 67, 84, 22, 482, 26, 7, 48, 4, 49, 8, 864, 39, 209, 154, 6, 151, 6, 83, 11, 15, 22, 155, 11, 15, 7, 48, 9, 4579, 1005, 504, 6, 258, 6, 272, 11, 15, 22, 134, 44, 11, 15, 16, 8, 197, 1245, 90, 67, 52, 29, 209, 30, 32, 132, 6, 109, 15, 17, 12]),\n",
       "       list([1, 3267, 699, 3434, 2295, 56, 16784, 7511, 9, 56, 3906, 1073, 81, 5, 1198, 57, 366, 737, 132, 20, 4093, 7, 19261, 49, 2295, 13415, 1037, 3267, 699, 3434, 8, 7, 10, 241, 16, 855, 129, 231, 783, 5, 4, 587, 2295, 13415, 30625, 775, 7, 48, 34, 191, 44, 35, 1795, 505, 17, 12]),\n",
       "       list([1, 53, 12, 284, 15, 14, 272, 26, 53, 959, 32, 818, 15, 14, 272, 26, 39, 684, 70, 11, 14, 12, 3886, 18, 180, 183, 187, 70, 11, 14, 102, 32, 11, 29, 53, 44, 704, 15, 14, 19, 758, 15, 53, 959, 47, 1013, 15, 14, 19, 132, 15, 39, 965, 32, 11, 14, 147, 72, 11, 180, 183, 187, 44, 11, 14, 102, 19, 11, 123, 186, 90, 67, 960, 4, 78, 13, 68, 467, 511, 110, 59, 89, 90, 67, 1390, 55, 2678, 92, 617, 80, 1274, 46, 905, 220, 13, 4, 346, 48, 235, 629, 5, 211, 5, 1118, 7, 11733, 81, 5, 187, 11, 15, 9, 1709, 201, 5, 47, 3615, 18, 478, 4514, 5, 1118, 7, 232, 13051, 71, 5, 160, 63, 11, 9, 26503, 81, 5, 102, 59, 11, 17, 12]),\n",
       "       ...,\n",
       "       list([1, 141, 3890, 387, 81, 8, 16, 1629, 10, 340, 1241, 850, 31, 56, 3890, 691, 9, 1241, 71, 9, 5985, 16338, 19170, 699, 19886, 13441, 18064, 699, 244, 5945, 4, 49, 8, 4, 656, 850, 33, 2993, 9, 2139, 340, 3371, 1493, 9, 17870, 22, 16964, 1094, 687, 83, 35, 15, 257, 6, 57, 9190, 7, 4, 5956, 654, 5, 17822, 6191, 1371, 4, 49, 8, 16, 369, 646, 6, 1076, 7, 124, 407, 17, 12]),\n",
       "       list([1, 53, 46, 957, 26, 14, 74, 132, 26, 39, 46, 258, 3614, 18, 14, 74, 134, 5131, 18, 88, 2321, 72, 11, 14, 1842, 32, 11, 123, 383, 89, 39, 46, 235, 10, 864, 728, 5, 258, 44, 11, 15, 22, 753, 9, 42, 92, 131, 728, 5, 69, 312, 11, 15, 22, 222, 10964, 3237, 383, 48, 39, 74, 235, 10, 864, 276, 5, 61, 32, 11, 15, 21, 4, 211, 5, 126, 1072, 42, 92, 131, 46, 19, 352, 11, 15, 22, 710, 220, 9, 42, 92, 131, 276, 5, 59, 61, 11, 15, 22, 10, 455, 7, 1172, 137, 336, 1325, 6, 1532, 142, 971, 6463, 43, 359, 5, 4, 326, 753, 364, 17, 12]),\n",
       "       list([1, 227, 2406, 91, 21969, 125, 2855, 21, 4, 3976, 76, 7, 4, 757, 481, 3976, 790, 5259, 5654, 9, 111, 149, 8, 7, 10, 76, 223, 51, 4, 417, 8, 1047, 91, 6917, 1688, 340, 7, 194, 9411, 6, 1894, 21, 127, 2151, 2394, 1456, 6, 3034, 4, 329, 433, 7, 65, 87, 1127, 10, 8219, 1475, 290, 9, 21, 567, 16, 1926, 24, 4, 76, 209, 30, 4033, 6655, 5654, 8, 4, 60, 8, 4, 966, 308, 40, 2575, 129, 15562, 295, 277, 1071, 9, 24, 286, 2114, 234, 222, 9, 4, 906, 3994, 8519, 114, 5758, 1752, 7, 4, 113, 17, 12])],\n",
       "      dtype=object)"
      ]
     },
     "metadata": {},
     "output_type": "display_data"
    }
   ],
   "source": [
    "import tensorflow as tf\n",
    "from tensorflow import keras\n",
    "\n",
    "(xtrain, ytrain), (xtest, ytest) = keras.datasets.reuters.load_data()\n",
    "                                                                    \n",
    "display(xtrain)"
   ]
  },
  {
   "cell_type": "code",
   "execution_count": 3,
   "metadata": {},
   "outputs": [],
   "source": [
    "word_index = keras.datasets.reuters.get_word_index()"
   ]
  },
  {
   "cell_type": "code",
   "execution_count": 4,
   "metadata": {},
   "outputs": [
    {
     "name": "stdout",
     "output_type": "stream",
     "text": [
      "Vocabulary size is 30979\n"
     ]
    }
   ],
   "source": [
    "index_to_word = dict()\n",
    "\n",
    "for key, val in word_index.items():\n",
    "    index_to_word[val] = key\n",
    "    \n",
    "voca_size = len(index_to_word)    \n",
    "\n",
    "print(f'Vocabulary size is {voca_size}')    "
   ]
  },
  {
   "cell_type": "code",
   "execution_count": 5,
   "metadata": {},
   "outputs": [],
   "source": [
    "# word index from dataset has 3 reserved words, thus minus 3\n",
    "# see: https://technotes.webriki.com/2019/06/reserved-indices-in-keras-reuters-data.html\n",
    "\n",
    "def get_word(idx):\n",
    "    return index_to_word.get(idx-3, '?')"
   ]
  },
  {
   "cell_type": "code",
   "execution_count": 7,
   "metadata": {
    "scrolled": true
   },
   "outputs": [
    {
     "name": "stdout",
     "output_type": "stream",
     "text": [
      "0: ? the great atlantic and pacific tea co said its three year 345 mln dlr capital program will be be substantially increased to accommodate growth and expansion plans for waldbaum inc and shopwell inc over the next two years a and p said the acquisition of shopwell in august 1986 and waldbaum in december helped us achieve better than expected results in the fourth quarter ended february 28 its net income from continuing operations jumped 52 6 pct to 20 7 mln dlrs or 55 cts a share in the latest quarter as sales increased 48 3 pct to 1 58 billion dlrs a and p gave no details on the expanded capital program but it did say it completed the first year of the program during 1986 a and p is 52 4 pct owned by lt tengelmann warenhandelsgesellschaft of west germany reuter 3\n",
      "\n",
      "1: ? philippine sugar production in the 1987 88 crop year ending august has been set at 1 6 mln tonnes up from a provisional 1 3 mln tonnes this year sugar regulatory administration sra chairman arsenio yulo said yulo told reuters a survey during the current milling season which ends next month showed the 1986 87 estimate would almost certainly be met he said at least 1 2 mln tonnes of the 1987 88 crop would be earmarked for domestic consumption yulo said about 130 000 tonnes would be set aside for the u s sugar quota 150 000 tonnes for strategic reserves and 50 000 tonnes would be sold on the world market he said if the government approved a long standing sra recommendation to manufacture ethanol the project would take up another 150 000 tonnes slightly raising the target the government for its own reasons has been delaying approval of the project but we expect it to come through by july yulo said ethanol could make up five pct of gasoline cutting the oil import bill by about 300 mln pesos yulo said three major philippine distilleries were ready to start manufacturing ethanol if the project was approved the ethanol project would result in employment for about 100 000 people sharply reducing those thrown out of work by depressed world sugar prices and a moribund domestic industry production quotas set for the first time in 1987 88 had been submitted to president corazon aquino i think the president would rather wait till the new congress convenes after the may elections he said but there is really no need for such quotas we are right now producing just slightly over our own consumption level the producers have never enjoyed such high prices yulo said adding sugar was currently selling locally for 320 pesos per picul up from 190 pesos last august yulo said prices were driven up because of speculation following the sra's bid to control production we are no longer concerned so much with the world market he said adding producers in the negros region had learned from their mistakes and diversified into corn and prawn farming and cloth production he said diversification into products other than ethanol was also possible within the sugar industry the brazilians long ago learnt their lessons yulo said they have 300 sugar mills compared with our 41 but they relocated many of them and diversified production we want to call this a 'sugarcane industry' instead of the sugar industry he said sugarcane could be fed to pigs and livestock used for thatching roofs or used in room panelling when you cut sugarcane you don't even have to produce sugar he said yulo said the philippines was lobbying for a renewal of the international sugar agreement which expired in 1984 as a major sugar producer we are urging them to write a new agreement which would revive world prices yulo said if there is no agreement world prices will always be depressed particularly because the european community is subsidising its producers and dumping sugar on the markets he said current world prices holding steady at about 7 60 cents per pound were uneconomical for the philippines where production costs ranged from 12 to 14 cents a pound if the price holds steady for a while at 7 60 cents i expect the level to rise to about 11 cents a pound by the end of this year he said yulo said economists forecast a bullish sugar market by 1990 with world consumption outstripping production he said sugar markets were holding up despite encroachments from artificial sweeteners and high fructose corn syrup but we are not happy with the reagan administration he said since 1935 we have been regular suppliers of sugar to the u s in 1982 when they restored the quota system they cut ours in half without any justification manila was keenly watching washington's moves to cut domestic support prices to 12 cents a pound from 18 cents the u s agriculture department last december slashed its 12 month 1987 sugar import quota from the philippines to 143 780 short tons from 231 660 short tons in 1986 yulo said despite next year's increased production target some philippine mills were expected to shut down at least four of the 41 mills were not working during the 1986 87 season he said we expect two or three more to follow suit during the next season reuter 3\n",
      "\n",
      "2: ? the agriculture department's widening of louisiana gulf differentials will affect county posted prices for number two yellow corn in ten states a usda official said all counties in iowa will be affected as will counties which use the gulf to price corn in illinois indiana tennessee kentucky missouri mississippi arkansas alabama and louisiana said ron burgess deputy director of commodity operations division for the usda usda last night notified the grain industry that effective immediately all gulf differentials used to price interior corn would be widened on a sliding scale basis of four to eight cts depending on what the differential is usda's action was taken to lower excessively high posted county prices for corn caused by high gulf prices we've been following this louisiana gulf situation for a month and we don't think it's going to get back in line in any nearby time burgess said burgess said usda will probably narrow back the gulf differentials when and if gulf prices recede if we're off the mark now because we're too high wouldn't we be as much off the mark if we're too low he said while forecasting more adjustments if gulf prices fall burgess said no other changes in usda's price system are being planned right now we don't tinker we don't make changes lightly and we don't make changes often he said reuter 3\n",
      "\n",
      "3: ? graham mccormick oil and gas partnership said it completed the sale of interests in two major oil and gas fields to lt energy assets international corp for 21 mln dlrs the company said it sold about one half of its 50 pct interest in the oak hill and north rucias fields its two largest producing properties it said it used about 20 mln dlrs of the proceeds to prepay principal on its senior secured notes semi annual principal payments on the remaining 40 mln dlrs of notes have been satisfied until december 1988 as a result it said the company said the note agreements were amended to reflect an easing of some financial covenants and an increase of interest to 13 5 pct from 13 0 pct until december 1990 it said the noteholders exercise price for 1 125 000 warrants was also reduced to 50 cts from 1 50 dlrs the company said energy assets agreed to share the costs of increasing production at the oak hill field reuter 3\n",
      "\n",
      "4: ? strong south easterly winds were keeping many vessels trapped in the ice off the finnish and swedish coasts in one of the worst icy periods in the baltic for many years the finnish board of navigation said in finland and sweden up to 50 vessels were reported to be stuck in the ice and even the largest of the assisting icebreakers were having difficulties in breaking through to the stranded ships coastguard officials said however icy conditions in the southern baltic at the soviet oil ports of ventspils and klaipeda had eased they said weather officials in neighbouring sweden said the icy conditions in the baltic were the worst for 30 years with ships fighting a losing battle to keep moving in the coastal stretches of the gulf of bothnia which divides finland and sweden the ice is up to one metre thick with drifts and currents packing it into almost impenetrable walls three metres high swedish coastguard officials said weather forecasts say winds may ease during the weekend but a further drop in temperature could bring shipping to a standstill the officials said reuter 3\n",
      "\n"
     ]
    }
   ],
   "source": [
    "for N in range(5):\n",
    "    example_text = []\n",
    "    \n",
    "    for word_idx in xtest[N]:\n",
    "        example_text.append(get_word(word_idx))\n",
    "    \n",
    "    sentence = ' '.join(example_text)\n",
    "    print(f'{N}: {sentence}\\n')"
   ]
  },
  {
   "cell_type": "code",
   "execution_count": 6,
   "metadata": {},
   "outputs": [],
   "source": [
    "def build_cbow_tuples(train_data, ctx_size):\n",
    "    cbow = []\n",
    "    \n",
    "    for paragraph in train_data:\n",
    "        for i in range(ctx_size, len(paragraph) - ctx_size):\n",
    "            cbow.append((\n",
    "                paragraph[i-ctx_size:i] + paragraph[i+1:i+ctx_size+1], \n",
    "                paragraph[i],\n",
    "            ))\n",
    "            \n",
    "    return cbow"
   ]
  },
  {
   "cell_type": "code",
   "execution_count": 7,
   "metadata": {
    "scrolled": true
   },
   "outputs": [
    {
     "name": "stdout",
     "output_type": "stream",
     "text": [
      "([1, 27595, 8, 43], 28842)\n",
      "['?', 'mcgrath', 'said', 'as'] rentcorp\n",
      "([27595, 28842, 43, 10], 8)\n",
      "['mcgrath', 'rentcorp', 'as', 'a'] said\n",
      "([28842, 8, 10, 447], 43)\n",
      "['rentcorp', 'said', 'a', 'result'] as\n",
      "([8, 43, 447, 5], 10)\n",
      "['said', 'as', 'result', 'of'] a\n",
      "([43, 10, 5, 25], 447)\n",
      "['as', 'a', 'of', 'its'] result\n",
      "([10, 447, 25, 207], 5)\n",
      "['a', 'result', 'its', 'december'] of\n",
      "([447, 5, 207, 270], 25)\n",
      "['result', 'of', 'december', 'acquisition'] its\n",
      "([5, 25, 270, 5], 207)\n",
      "['of', 'its', 'acquisition', 'of'] december\n",
      "([25, 207, 5, 3095], 270)\n",
      "['its', 'december', 'of', 'space'] acquisition\n",
      "([207, 270, 3095, 111], 5)\n",
      "['december', 'acquisition', 'space', 'co'] of\n",
      "([270, 5, 111, 16], 3095)\n",
      "['acquisition', 'of', 'co', 'it'] space\n",
      "([5, 3095, 16, 369], 111)\n",
      "['of', 'space', 'it', 'expects'] co\n",
      "([3095, 111, 369, 186], 16)\n",
      "['space', 'co', 'expects', 'earnings'] it\n",
      "([111, 16, 186, 90], 369)\n",
      "['co', 'it', 'earnings', 'per'] expects\n",
      "([16, 369, 90, 67], 186)\n",
      "['it', 'expects', 'per', 'share'] earnings\n",
      "([369, 186, 67, 7], 90)\n",
      "['expects', 'earnings', 'share', 'in'] per\n",
      "([186, 90, 7, 89], 67)\n",
      "['earnings', 'per', 'in', '1987'] share\n",
      "([90, 67, 89, 5], 7)\n",
      "['per', 'share', '1987', 'of'] in\n",
      "([67, 7, 5, 19], 89)\n",
      "['share', 'in', 'of', '1'] 1987\n",
      "([7, 89, 19, 102], 5)\n",
      "['in', '1987', '1', '15'] of\n"
     ]
    }
   ],
   "source": [
    "CONTEXT_SIZE = 2\n",
    "CONTEXT_WINDOW = CONTEXT_SIZE * 2\n",
    "\n",
    "cbow_data = build_cbow_tuples(xtrain, CONTEXT_SIZE)\n",
    "\n",
    "for i in range(20):\n",
    "    print(cbow_data[i])\n",
    "    print([get_word(w) for w in cbow_data[i][0]], get_word(cbow_data[i][1]))"
   ]
  },
  {
   "cell_type": "code",
   "execution_count": 8,
   "metadata": {},
   "outputs": [],
   "source": [
    "import numpy as np\n",
    "\n",
    "def build_training_data():\n",
    "    X = []\n",
    "    y = []\n",
    "    \n",
    "    for tuple in cbow_data:\n",
    "        context = tuple[0]\n",
    "        label = tuple[1]\n",
    "        \n",
    "        ctx_size = len(context)\n",
    "        xi = np.array(context)\n",
    "\n",
    "        yi = np.zeros((voca_size,))\n",
    "        if label >= voca_size:\n",
    "            label = 2\n",
    "        yi[label] = 1\n",
    "        \n",
    "        yield xi, yi"
   ]
  },
  {
   "cell_type": "code",
   "execution_count": 9,
   "metadata": {},
   "outputs": [
    {
     "name": "stdout",
     "output_type": "stream",
     "text": [
      "(4,) (30979,)\n",
      "(4,) (30979,)\n",
      "(4,) (30979,)\n",
      "(4,) (30979,)\n",
      "(4,) (30979,)\n",
      "(4,) (30979,)\n",
      "(4,) (30979,)\n",
      "(4,) (30979,)\n",
      "(4,) (30979,)\n",
      "(4,) (30979,)\n"
     ]
    }
   ],
   "source": [
    "gen = build_training_data()\n",
    "\n",
    "for i in range(10):\n",
    "    xi, yi = next(gen)\n",
    "    \n",
    "    print(xi.shape, yi.shape)"
   ]
  },
  {
   "cell_type": "code",
   "execution_count": 10,
   "metadata": {
    "scrolled": false
   },
   "outputs": [],
   "source": [
    "# gen = build_training_data(cbow_data, voca_size)\n",
    "\n",
    "train_data = tf.data.Dataset.from_generator(\n",
    "    build_training_data,\n",
    "    output_signature=(\n",
    "        tf.TensorSpec(shape=(CONTEXT_WINDOW,), dtype=tf.int32),\n",
    "        tf.TensorSpec(shape=(voca_size,), dtype=tf.int32),\n",
    "    ),\n",
    ").batch(16)"
   ]
  },
  {
   "cell_type": "code",
   "execution_count": 11,
   "metadata": {
    "scrolled": true
   },
   "outputs": [
    {
     "data": {
      "text/plain": [
       "<BatchDataset element_spec=(TensorSpec(shape=(None, 4), dtype=tf.int32, name=None), TensorSpec(shape=(None, 30979), dtype=tf.int32, name=None))>"
      ]
     },
     "metadata": {},
     "output_type": "display_data"
    },
    {
     "data": {
      "text/plain": [
       "(<tf.Tensor: shape=(16, 4), dtype=int32, numpy=\n",
       " array([[    1, 27595,     8,    43],\n",
       "        [27595, 28842,    43,    10],\n",
       "        [28842,     8,    10,   447],\n",
       "        [    8,    43,   447,     5],\n",
       "        [   43,    10,     5,    25],\n",
       "        [   10,   447,    25,   207],\n",
       "        [  447,     5,   207,   270],\n",
       "        [    5,    25,   270,     5],\n",
       "        [   25,   207,     5,  3095],\n",
       "        [  207,   270,  3095,   111],\n",
       "        [  270,     5,   111,    16],\n",
       "        [    5,  3095,    16,   369],\n",
       "        [ 3095,   111,   369,   186],\n",
       "        [  111,    16,   186,    90],\n",
       "        [   16,   369,    90,    67],\n",
       "        [  369,   186,    67,     7]], dtype=int32)>,\n",
       " <tf.Tensor: shape=(16, 30979), dtype=int32, numpy=\n",
       " array([[0, 0, 0, ..., 0, 0, 0],\n",
       "        [0, 0, 0, ..., 0, 0, 0],\n",
       "        [0, 0, 0, ..., 0, 0, 0],\n",
       "        ...,\n",
       "        [0, 0, 0, ..., 0, 0, 0],\n",
       "        [0, 0, 0, ..., 0, 0, 0],\n",
       "        [0, 0, 0, ..., 0, 0, 0]], dtype=int32)>)"
      ]
     },
     "metadata": {},
     "output_type": "display_data"
    }
   ],
   "source": [
    "x1 = train_data.take(1)\n",
    "display(train_data)\n",
    "display(list(x1)[0])\n"
   ]
  },
  {
   "cell_type": "code",
   "execution_count": 16,
   "id": "d11ecfb6-214c-4e27-834b-c7d066161154",
   "metadata": {
    "scrolled": false
   },
   "outputs": [
    {
     "name": "stdout",
     "output_type": "stream",
     "text": [
      "Model: \"sequential_2\"\n",
      "_________________________________________________________________\n",
      " Layer (type)                Output Shape              Param #   \n",
      "=================================================================\n",
      " embedding_2 (Embedding)     (None, 4, 16)             495664    \n",
      "                                                                 \n",
      " global_average_pooling1d_2   (None, 16)               0         \n",
      " (GlobalAveragePooling1D)                                        \n",
      "                                                                 \n",
      " dense_2 (Dense)             (None, 30979)             526643    \n",
      "                                                                 \n",
      "=================================================================\n",
      "Total params: 1,022,307\n",
      "Trainable params: 1,022,307\n",
      "Non-trainable params: 0\n",
      "_________________________________________________________________\n"
     ]
    }
   ],
   "source": [
    "import tensorflow as tf\n",
    "from tensorflow import keras\n",
    "\n",
    "EMBEDDING_SIZE = 16\n",
    "\n",
    "def build_cbow_model(ctx_window, voca_size, embed_dim):\n",
    "    model = keras.models.Sequential()\n",
    "\n",
    "    model.add(keras.layers.Input(shape=(ctx_window,)))\n",
    "    model.add(keras.layers.Embedding(voca_size, embed_dim, input_length=ctx_window))\n",
    "    model.add(keras.layers.GlobalAveragePooling1D())\n",
    "    model.add(keras.layers.Dense(voca_size, activation='softmax'))\n",
    "    \n",
    "    model.compile(\n",
    "        loss=tf.losses.CategoricalCrossentropy(),\n",
    "        optimizer=tf.optimizers.Adam(learning_rate=1e-4),\n",
    "        metrics=['acc'],\n",
    "    )\n",
    "    \n",
    "    return model\n",
    "\n",
    "model = build_cbow_model(CONTEXT_WINDOW, voca_size, 16)\n",
    "    \n",
    "model.summary()"
   ]
  },
  {
   "cell_type": "code",
   "execution_count": 17,
   "id": "29463299-def0-41f3-953f-9093a4ea58a9",
   "metadata": {
    "scrolled": true
   },
   "outputs": [
    {
     "name": "stdout",
     "output_type": "stream",
     "text": [
      "Epoch 1/30\n",
      "79457/79457 [==============================] - 1171s 15ms/step - loss: 7.4938 - acc: 0.0509\n",
      "Epoch 2/30\n",
      "79457/79457 [==============================] - 1195s 15ms/step - loss: 6.8363 - acc: 0.0752\n",
      "Epoch 3/30\n",
      "79457/79457 [==============================] - 1190s 15ms/step - loss: 6.5939 - acc: 0.1043\n",
      "Epoch 4/30\n",
      "79457/79457 [==============================] - 1197s 15ms/step - loss: 6.4612 - acc: 0.1207\n",
      "Epoch 5/30\n",
      "79457/79457 [==============================] - 1190s 15ms/step - loss: 6.3717 - acc: 0.1330\n",
      "Epoch 6/30\n",
      "79457/79457 [==============================] - 1194s 15ms/step - loss: 6.3064 - acc: 0.1432\n",
      "Epoch 7/30\n",
      "79457/79457 [==============================] - 1191s 15ms/step - loss: 6.2590 - acc: 0.1514\n",
      "Epoch 8/30\n",
      "79457/79457 [==============================] - 1194s 15ms/step - loss: 6.2199 - acc: 0.1575\n",
      "Epoch 9/30\n",
      "79457/79457 [==============================] - 1193s 15ms/step - loss: 6.1865 - acc: 0.1621\n",
      "Epoch 10/30\n",
      "79457/79457 [==============================] - 1186s 15ms/step - loss: 6.1585 - acc: 0.1652\n",
      "Epoch 11/30\n",
      "79457/79457 [==============================] - 1190s 15ms/step - loss: 6.1345 - acc: 0.1676\n",
      "Epoch 12/30\n",
      "79457/79457 [==============================] - 1193s 15ms/step - loss: 6.1133 - acc: 0.1699\n",
      "Epoch 13/30\n",
      "79457/79457 [==============================] - 1197s 15ms/step - loss: 6.0936 - acc: 0.1719\n",
      "Epoch 14/30\n",
      "79457/79457 [==============================] - 1194s 15ms/step - loss: 6.0752 - acc: 0.1736\n",
      "Epoch 15/30\n",
      "79457/79457 [==============================] - 1198s 15ms/step - loss: 6.0577 - acc: 0.1754\n",
      "Epoch 16/30\n",
      "79457/79457 [==============================] - 1197s 15ms/step - loss: 6.0409 - acc: 0.1772\n",
      "Epoch 17/30\n",
      "79457/79457 [==============================] - 1197s 15ms/step - loss: 6.0250 - acc: 0.1786\n",
      "Epoch 18/30\n",
      "79457/79457 [==============================] - 1200s 15ms/step - loss: 6.0104 - acc: 0.1799\n",
      "Epoch 19/30\n",
      "79457/79457 [==============================] - 1197s 15ms/step - loss: 5.9970 - acc: 0.1810\n",
      "Epoch 20/30\n",
      "79457/79457 [==============================] - 1199s 15ms/step - loss: 5.9850 - acc: 0.1819\n",
      "Epoch 21/30\n",
      "79457/79457 [==============================] - 1198s 15ms/step - loss: 5.9739 - acc: 0.1826\n",
      "Epoch 22/30\n",
      "79457/79457 [==============================] - 1201s 15ms/step - loss: 5.9633 - acc: 0.1833\n",
      "Epoch 23/30\n",
      "79457/79457 [==============================] - 1202s 15ms/step - loss: 5.9532 - acc: 0.1840\n",
      "Epoch 24/30\n",
      "79457/79457 [==============================] - 1200s 15ms/step - loss: 5.9439 - acc: 0.1847\n",
      "Epoch 25/30\n",
      "79457/79457 [==============================] - 1197s 15ms/step - loss: 5.9352 - acc: 0.1853\n",
      "Epoch 26/30\n",
      "79457/79457 [==============================] - 1197s 15ms/step - loss: 5.9273 - acc: 0.1858\n",
      "Epoch 27/30\n",
      "79457/79457 [==============================] - 1193s 15ms/step - loss: 5.9197 - acc: 0.1864\n",
      "Epoch 28/30\n",
      "79457/79457 [==============================] - 1196s 15ms/step - loss: 5.9120 - acc: 0.1870\n",
      "Epoch 29/30\n",
      "79457/79457 [==============================] - 1198s 15ms/step - loss: 5.9043 - acc: 0.1875\n",
      "Epoch 30/30\n",
      "79457/79457 [==============================] - 1199s 15ms/step - loss: 5.8965 - acc: 0.1880\n"
     ]
    }
   ],
   "source": [
    "with tf.device('/GPU:0'):\n",
    "    history = model.fit(train_data, epochs=30)"
   ]
  },
  {
   "cell_type": "code",
   "execution_count": 18,
   "id": "53aab970-7e93-40ef-838b-41461caef0b8",
   "metadata": {},
   "outputs": [
    {
     "name": "stdout",
     "output_type": "stream",
     "text": [
      "INFO:tensorflow:Assets written to: reuters-embedding/assets\n"
     ]
    }
   ],
   "source": [
    "model.save('reuters-embedding-16')"
   ]
  },
  {
   "cell_type": "code",
   "execution_count": 19,
   "metadata": {
    "scrolled": false
   },
   "outputs": [
    {
     "name": "stderr",
     "output_type": "stream",
     "text": [
      "Matplotlib created a temporary config/cache directory at /tmp/matplotlib-8rjfcm6x because the default path (/.config/matplotlib) is not a writable directory; it is highly recommended to set the MPLCONFIGDIR environment variable to a writable directory, in particular to speed up the import of Matplotlib and to better support multiprocessing.\n"
     ]
    },
    {
     "data": {
      "image/png": "[encoded data removed]",
      "text/plain": [
       "<Figure size 640x480 with 1 Axes>"
      ]
     },
     "metadata": {},
     "output_type": "display_data"
    }
   ],
   "source": [
    "import matplotlib.pyplot as plt\n",
    "\n",
    "plt.plot(history.history['loss'], label='training_loss')\n",
    "plt.legend()\n",
    "plt.show()"
   ]
  },
  {
   "cell_type": "code",
   "execution_count": 22,
   "metadata": {},
   "outputs": [
    {
     "name": "stdout",
     "output_type": "stream",
     "text": [
      "Model: \"sequential_5\"\n",
      "_________________________________________________________________\n",
      " Layer (type)                Output Shape              Param #   \n",
      "=================================================================\n",
      " embedding_5 (Embedding)     (None, 4, 64)             1982656   \n",
      "                                                                 \n",
      " global_average_pooling1d_5   (None, 64)               0         \n",
      " (GlobalAveragePooling1D)                                        \n",
      "                                                                 \n",
      " dense_5 (Dense)             (None, 30979)             2013635   \n",
      "                                                                 \n",
      "=================================================================\n",
      "Total params: 3,996,291\n",
      "Trainable params: 3,996,291\n",
      "Non-trainable params: 0\n",
      "_________________________________________________________________\n",
      "Epoch 1/50\n",
      "79457/79457 [==============================] - 1209s 15ms/step - loss: 7.1853 - acc: 0.0667\n",
      "Epoch 2/50\n",
      "79457/79457 [==============================] - 1191s 15ms/step - loss: 6.4645 - acc: 0.1158\n",
      "Epoch 3/50\n",
      "79457/79457 [==============================] - 1202s 15ms/step - loss: 6.2355 - acc: 0.1420\n",
      "Epoch 4/50\n",
      "52550/79457 [==================>...........] - ETA: 6:46 - loss: 6.1057 - acc: 0.1580\n",
      "14110/79457 [====>.........................] - ETA: 16:31 - loss: 5.9572 - acc: 0.1709\n",
      "74575/79457 [===========================>..] - ETA: 1:14 - loss: 5.9645 - acc: 0.1738\n",
      "35534/79457 [============>.................] - ETA: 11:06 - loss: 5.8888 - acc: 0.1822\n",
      "75670/79457 [===========================>..] - ETA: 57s - loss: 5.4230 - acc: 0.2280\n",
      "36758/79457 [============>.................] - ETA: 10:50 - loss: 5.3904 - acc: 0.2306\n",
      "77695/79457 [============================>.] - ETA: 26s - loss: 5.3894 - acc: 0.2307\n",
      "37579/79457 [=============>................] - ETA: 10:35 - loss: 5.3572 - acc: 0.2330\n",
      "78697/79457 [============================>.] - ETA: 11s - loss: 5.3531 - acc: 0.2332\n",
      "40807/79457 [==============>...............] - ETA: 9:48 - loss: 5.3247 - acc: 0.2353\n"
     ]
    },
    {
     "name": "stderr",
     "output_type": "stream",
     "text": [
      "IOPub message rate exceeded.\n",
      "The notebook server will temporarily stop sending output\n",
      "to the client in order to avoid crashing it.\n",
      "To change this limit, set the config variable\n",
      "`--NotebookApp.iopub_msg_rate_limit`.\n",
      "\n",
      "Current values:\n",
      "NotebookApp.iopub_msg_rate_limit=1000.0 (msgs/sec)\n",
      "NotebookApp.rate_limit_window=3.0 (secs)\n",
      "\n"
     ]
    },
    {
     "name": "stdout",
     "output_type": "stream",
     "text": [
      "79457/79457 [==============================] - 1210s 15ms/step - loss: 5.3206 - acc: 0.2358\n",
      "Epoch 18/50\n",
      " 2562/79457 [..............................] - ETA: 19:33 - loss: 5.1716 - acc: 0.2386\n",
      "40796/79457 [==============>...............] - ETA: 9:38 - loss: 5.2953 - acc: 0.2375\n",
      "79457/79457 [==============================] - 1199s 15ms/step - loss: 5.2913 - acc: 0.2380\n",
      "Epoch 19/50\n",
      " 1502/79457 [..............................] - ETA: 19:56 - loss: 5.0525 - acc: 0.2464\n",
      "41391/79457 [==============>...............] - ETA: 9:38 - loss: 5.2682 - acc: 0.2396\n",
      "79457/79457 [==============================] - 1206s 15ms/step - loss: 5.2621 - acc: 0.2400\n",
      "Epoch 20/50\n",
      " 2294/79457 [..............................] - ETA: 19:29 - loss: 5.0783 - acc: 0.2471\n",
      "63523/79457 [======================>.......] - ETA: 4:00 - loss: 5.1256 - acc: 0.2495\n",
      "25092/79457 [========>.....................] - ETA: 13:46 - loss: 5.0982 - acc: 0.2520\n",
      "65973/79457 [=======================>......] - ETA: 3:25 - loss: 5.1034 - acc: 0.2513\n",
      "28678/79457 [=========>....................] - ETA: 12:50 - loss: 5.0802 - acc: 0.2531\n",
      "69840/79457 [=========================>....] - ETA: 2:26 - loss: 5.0869 - acc: 0.2526\n",
      "79457/79457 [==============================] - 1214s 15ms/step - loss: 5.0727 - acc: 0.2534\n",
      "Epoch 29/50\n",
      "79457/79457 [==============================] - 1203s 15ms/step - loss: 5.0570 - acc: 0.2545\n",
      "Epoch 30/50\n",
      "79457/79457 [==============================] - 1206s 15ms/step - loss: 5.0419 - acc: 0.2555\n",
      "Epoch 31/50\n",
      "79457/79457 [==============================] - 1209s 15ms/step - loss: 5.0276 - acc: 0.2564\n",
      "Epoch 32/50\n",
      "79457/79457 [==============================] - 1208s 15ms/step - loss: 5.0136 - acc: 0.2572\n",
      "Epoch 33/50\n",
      "79457/79457 [==============================] - 1202s 15ms/step - loss: 5.0001 - acc: 0.2580\n",
      "Epoch 34/50\n",
      "79457/79457 [==============================] - 1212s 15ms/step - loss: 4.9868 - acc: 0.2588\n",
      "Epoch 35/50\n",
      "79457/79457 [==============================] - 1207s 15ms/step - loss: 4.9738 - acc: 0.2595\n",
      "Epoch 36/50\n",
      "79457/79457 [==============================] - 1206s 15ms/step - loss: 4.9610 - acc: 0.2603\n",
      "Epoch 37/50\n",
      "79457/79457 [==============================] - 1210s 15ms/step - loss: 4.9486 - acc: 0.2611\n",
      "Epoch 38/50\n",
      "79457/79457 [==============================] - 1214s 15ms/step - loss: 4.9364 - acc: 0.2620\n",
      "Epoch 39/50\n",
      "79457/79457 [==============================] - 1210s 15ms/step - loss: 4.9245 - acc: 0.2628\n",
      "Epoch 40/50\n",
      "79457/79457 [==============================] - 1211s 15ms/step - loss: 4.9128 - acc: 0.2634\n",
      "Epoch 41/50\n",
      "79457/79457 [==============================] - 1210s 15ms/step - loss: 4.9013 - acc: 0.2640\n",
      "Epoch 42/50\n",
      "79457/79457 [==============================] - 1208s 15ms/step - loss: 4.8901 - acc: 0.2647\n",
      "Epoch 43/50\n",
      "79457/79457 [==============================] - 1210s 15ms/step - loss: 4.8793 - acc: 0.2654\n",
      "Epoch 44/50\n",
      "79457/79457 [==============================] - 1210s 15ms/step - loss: 4.8690 - acc: 0.2661\n",
      "Epoch 45/50\n",
      "79457/79457 [==============================] - 1207s 15ms/step - loss: 4.8591 - acc: 0.2667\n",
      "Epoch 46/50\n",
      "79457/79457 [==============================] - 1209s 15ms/step - loss: 4.8496 - acc: 0.2673\n",
      "Epoch 47/50\n",
      "79457/79457 [==============================] - 1214s 15ms/step - loss: 4.8402 - acc: 0.2678\n",
      "Epoch 48/50\n",
      "79457/79457 [==============================] - 1214s 15ms/step - loss: 4.8312 - acc: 0.2683\n",
      "Epoch 49/50\n",
      "79457/79457 [==============================] - 1215s 15ms/step - loss: 4.8225 - acc: 0.2688\n",
      "Epoch 50/50\n",
      "79457/79457 [==============================] - 1211s 15ms/step - loss: 4.8142 - acc: 0.2693\n",
      "INFO:tensorflow:Assets written to: reuters-embedding-64/assets\n"
     ]
    }
   ],
   "source": [
    "model64 = build_cbow_model(CONTEXT_WINDOW, voca_size, 64)\n",
    "    \n",
    "model64.summary()\n",
    "\n",
    "with tf.device('/GPU:0'):\n",
    "    history64 = model64.fit(train_data, epochs=50)\n",
    "    \n",
    "model64.save('reuters-embedding-64')"
   ]
  },
  {
   "cell_type": "code",
   "execution_count": 23,
   "metadata": {},
   "outputs": [
    {
     "data": {
      "image/png": "[encoded data removed]",
      "text/plain": [
       "<Figure size 640x480 with 1 Axes>"
      ]
     },
     "metadata": {},
     "output_type": "display_data"
    }
   ],
   "source": [
    "import matplotlib.pyplot as plt\n",
    "\n",
    "plt.plot(history64.history['loss'], label='training_loss')\n",
    "plt.legend()\n",
    "plt.show()"
   ]
  },
  {
   "cell_type": "code",
   "execution_count": 25,
   "metadata": {},
   "outputs": [
    {
     "data": {
      "image/png": "[encoded data removed]",
      "text/plain": [
       "<Figure size 640x480 with 1 Axes>"
      ]
     },
     "metadata": {},
     "output_type": "display_data"
    }
   ],
   "source": [
    "plt.plot(history.history['loss'], label='loss-16')\n",
    "plt.plot(history64.history['loss'],  label='loss-64')\n",
    "plt.legend()\n",
    "\n",
    "plt.show()\n"
   ]
  }
 ],
 "metadata": {
  "kernelspec": {
   "display_name": "Python 3",
   "language": "python",
   "name": "python3"
  },
  "language_info": {
   "codemirror_mode": {
    "name": "ipython",
    "version": 3
   },
   "file_extension": ".py",
   "mimetype": "text/x-python",
   "name": "python",
   "nbconvert_exporter": "python",
   "pygments_lexer": "ipython3",
   "version": "3.8.10"
  }
 },
 "nbformat": 4,
 "nbformat_minor": 5
}
